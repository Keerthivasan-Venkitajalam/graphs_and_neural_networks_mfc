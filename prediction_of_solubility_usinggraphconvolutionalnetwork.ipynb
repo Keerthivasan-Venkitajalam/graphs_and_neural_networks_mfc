{
  "cells": [
    {
      "cell_type": "markdown",
      "metadata": {
        "id": "Cks5t1Bz6-zk"
      },
      "source": [
        "## Predicting molecule solubility using graph neural networks\n",
        "\n",
        "The utilization of graph-based frameworks within the torch_geometric library is instrumental for harnessing the power of graph neural networks (GNNs). These advanced networks adeptly process the graph representations of molecules, which are meticulously constructed with atoms as nodes and bonds as edges. GNNs excel in interpreting the intricate web of atomic interactions and the rich feature set of both nodes and edges. By doing so, they can adeptly predict solubility among other pivotal chemical attributes, leveraging the inherent structural information of the compounds.\n"
      ]
    },
    {
      "cell_type": "markdown",
      "metadata": {
        "id": "zxALTuL46-zl"
      },
      "source": [
        "**ESOL Dataset Overview:** The ESOL (Extended Solubility) dataset is pivotal in cheminformatics and predictive analytics, offering solubility data for a range of organic molecules in aqueous environments.</br>\n",
        "**Molecular Graphs:** Molecules are depicted as graphs with atoms as nodes and bonds as edges, encapsulating the molecular structure and atom connectivity.</br>\n",
        "**Atom Attributes:** Nodes carry distinct attributes reflecting atomic characteristics such as element type, electric charge distribution, hybridization state, atomic weight, and formal charge.</br>\n",
        "**Bond Characteristics:** Edges in the graph hold data on bond types—whether single, double, or triple—and may include geometric details like bond lengths and angles.</br>\n",
        "Structural Encoding: The molecular framework is encoded via adjacency matrices or edge lists, outlining the bond linkages among atoms."
      ]
    },
    {
      "cell_type": "markdown",
      "metadata": {
        "id": "5HphCtDF6-zn"
      },
      "source": [
        "## Investigate the dataset\n",
        "\n"
      ]
    },
    {
      "cell_type": "code",
      "execution_count": 1,
      "metadata": {
        "colab": {
          "base_uri": "https://localhost:8080/",
          "height": 0
        },
        "id": "RXjAYwK26-zm",
        "outputId": "ee28e2cd-1ffa-4973-f334-80fc07f5139f"
      },
      "outputs": [
        {
          "output_type": "stream",
          "name": "stdout",
          "text": [
            "Requirement already satisfied: torch in /usr/local/lib/python3.10/dist-packages (2.3.0+cu121)\n",
            "Requirement already satisfied: filelock in /usr/local/lib/python3.10/dist-packages (from torch) (3.14.0)\n",
            "Requirement already satisfied: typing-extensions>=4.8.0 in /usr/local/lib/python3.10/dist-packages (from torch) (4.12.0)\n",
            "Requirement already satisfied: sympy in /usr/local/lib/python3.10/dist-packages (from torch) (1.12.1)\n",
            "Requirement already satisfied: networkx in /usr/local/lib/python3.10/dist-packages (from torch) (3.3)\n",
            "Requirement already satisfied: jinja2 in /usr/local/lib/python3.10/dist-packages (from torch) (3.1.4)\n",
            "Requirement already satisfied: fsspec in /usr/local/lib/python3.10/dist-packages (from torch) (2023.6.0)\n",
            "Collecting nvidia-cuda-nvrtc-cu12==12.1.105 (from torch)\n",
            "  Using cached nvidia_cuda_nvrtc_cu12-12.1.105-py3-none-manylinux1_x86_64.whl (23.7 MB)\n",
            "Collecting nvidia-cuda-runtime-cu12==12.1.105 (from torch)\n",
            "  Using cached nvidia_cuda_runtime_cu12-12.1.105-py3-none-manylinux1_x86_64.whl (823 kB)\n",
            "Collecting nvidia-cuda-cupti-cu12==12.1.105 (from torch)\n",
            "  Using cached nvidia_cuda_cupti_cu12-12.1.105-py3-none-manylinux1_x86_64.whl (14.1 MB)\n",
            "Collecting nvidia-cudnn-cu12==8.9.2.26 (from torch)\n",
            "  Using cached nvidia_cudnn_cu12-8.9.2.26-py3-none-manylinux1_x86_64.whl (731.7 MB)\n",
            "Collecting nvidia-cublas-cu12==12.1.3.1 (from torch)\n",
            "  Using cached nvidia_cublas_cu12-12.1.3.1-py3-none-manylinux1_x86_64.whl (410.6 MB)\n",
            "Collecting nvidia-cufft-cu12==11.0.2.54 (from torch)\n",
            "  Using cached nvidia_cufft_cu12-11.0.2.54-py3-none-manylinux1_x86_64.whl (121.6 MB)\n",
            "Collecting nvidia-curand-cu12==10.3.2.106 (from torch)\n",
            "  Using cached nvidia_curand_cu12-10.3.2.106-py3-none-manylinux1_x86_64.whl (56.5 MB)\n",
            "Collecting nvidia-cusolver-cu12==11.4.5.107 (from torch)\n",
            "  Using cached nvidia_cusolver_cu12-11.4.5.107-py3-none-manylinux1_x86_64.whl (124.2 MB)\n",
            "Collecting nvidia-cusparse-cu12==12.1.0.106 (from torch)\n",
            "  Using cached nvidia_cusparse_cu12-12.1.0.106-py3-none-manylinux1_x86_64.whl (196.0 MB)\n",
            "Collecting nvidia-nccl-cu12==2.20.5 (from torch)\n",
            "  Using cached nvidia_nccl_cu12-2.20.5-py3-none-manylinux2014_x86_64.whl (176.2 MB)\n",
            "Collecting nvidia-nvtx-cu12==12.1.105 (from torch)\n",
            "  Using cached nvidia_nvtx_cu12-12.1.105-py3-none-manylinux1_x86_64.whl (99 kB)\n",
            "Requirement already satisfied: triton==2.3.0 in /usr/local/lib/python3.10/dist-packages (from torch) (2.3.0)\n",
            "Collecting nvidia-nvjitlink-cu12 (from nvidia-cusolver-cu12==11.4.5.107->torch)\n",
            "  Downloading nvidia_nvjitlink_cu12-12.5.40-py3-none-manylinux2014_x86_64.whl (21.3 MB)\n",
            "\u001b[2K     \u001b[90m━━━━━━━━━━━━━━━━━━━━━━━━━━━━━━━━━━━━━━━━\u001b[0m \u001b[32m21.3/21.3 MB\u001b[0m \u001b[31m40.6 MB/s\u001b[0m eta \u001b[36m0:00:00\u001b[0m\n",
            "\u001b[?25hRequirement already satisfied: MarkupSafe>=2.0 in /usr/local/lib/python3.10/dist-packages (from jinja2->torch) (2.1.5)\n",
            "Requirement already satisfied: mpmath<1.4.0,>=1.1.0 in /usr/local/lib/python3.10/dist-packages (from sympy->torch) (1.3.0)\n",
            "Installing collected packages: nvidia-nvtx-cu12, nvidia-nvjitlink-cu12, nvidia-nccl-cu12, nvidia-curand-cu12, nvidia-cufft-cu12, nvidia-cuda-runtime-cu12, nvidia-cuda-nvrtc-cu12, nvidia-cuda-cupti-cu12, nvidia-cublas-cu12, nvidia-cusparse-cu12, nvidia-cudnn-cu12, nvidia-cusolver-cu12\n",
            "Successfully installed nvidia-cublas-cu12-12.1.3.1 nvidia-cuda-cupti-cu12-12.1.105 nvidia-cuda-nvrtc-cu12-12.1.105 nvidia-cuda-runtime-cu12-12.1.105 nvidia-cudnn-cu12-8.9.2.26 nvidia-cufft-cu12-11.0.2.54 nvidia-curand-cu12-10.3.2.106 nvidia-cusolver-cu12-11.4.5.107 nvidia-cusparse-cu12-12.1.0.106 nvidia-nccl-cu12-2.20.5 nvidia-nvjitlink-cu12-12.5.40 nvidia-nvtx-cu12-12.1.105\n",
            "Collecting torch-geometric\n",
            "  Downloading torch_geometric-2.5.3-py3-none-any.whl (1.1 MB)\n",
            "\u001b[2K     \u001b[90m━━━━━━━━━━━━━━━━━━━━━━━━━━━━━━━━━━━━━━━━\u001b[0m \u001b[32m1.1/1.1 MB\u001b[0m \u001b[31m5.9 MB/s\u001b[0m eta \u001b[36m0:00:00\u001b[0m\n",
            "\u001b[?25hRequirement already satisfied: tqdm in /usr/local/lib/python3.10/dist-packages (from torch-geometric) (4.66.4)\n",
            "Requirement already satisfied: numpy in /usr/local/lib/python3.10/dist-packages (from torch-geometric) (1.25.2)\n",
            "Requirement already satisfied: scipy in /usr/local/lib/python3.10/dist-packages (from torch-geometric) (1.11.4)\n",
            "Requirement already satisfied: fsspec in /usr/local/lib/python3.10/dist-packages (from torch-geometric) (2023.6.0)\n",
            "Requirement already satisfied: jinja2 in /usr/local/lib/python3.10/dist-packages (from torch-geometric) (3.1.4)\n",
            "Requirement already satisfied: aiohttp in /usr/local/lib/python3.10/dist-packages (from torch-geometric) (3.9.5)\n",
            "Requirement already satisfied: requests in /usr/local/lib/python3.10/dist-packages (from torch-geometric) (2.31.0)\n",
            "Requirement already satisfied: pyparsing in /usr/local/lib/python3.10/dist-packages (from torch-geometric) (3.1.2)\n",
            "Requirement already satisfied: scikit-learn in /usr/local/lib/python3.10/dist-packages (from torch-geometric) (1.2.2)\n",
            "Requirement already satisfied: psutil>=5.8.0 in /usr/local/lib/python3.10/dist-packages (from torch-geometric) (5.9.5)\n",
            "Requirement already satisfied: aiosignal>=1.1.2 in /usr/local/lib/python3.10/dist-packages (from aiohttp->torch-geometric) (1.3.1)\n",
            "Requirement already satisfied: attrs>=17.3.0 in /usr/local/lib/python3.10/dist-packages (from aiohttp->torch-geometric) (23.2.0)\n",
            "Requirement already satisfied: frozenlist>=1.1.1 in /usr/local/lib/python3.10/dist-packages (from aiohttp->torch-geometric) (1.4.1)\n",
            "Requirement already satisfied: multidict<7.0,>=4.5 in /usr/local/lib/python3.10/dist-packages (from aiohttp->torch-geometric) (6.0.5)\n",
            "Requirement already satisfied: yarl<2.0,>=1.0 in /usr/local/lib/python3.10/dist-packages (from aiohttp->torch-geometric) (1.9.4)\n",
            "Requirement already satisfied: async-timeout<5.0,>=4.0 in /usr/local/lib/python3.10/dist-packages (from aiohttp->torch-geometric) (4.0.3)\n",
            "Requirement already satisfied: MarkupSafe>=2.0 in /usr/local/lib/python3.10/dist-packages (from jinja2->torch-geometric) (2.1.5)\n",
            "Requirement already satisfied: charset-normalizer<4,>=2 in /usr/local/lib/python3.10/dist-packages (from requests->torch-geometric) (3.3.2)\n",
            "Requirement already satisfied: idna<4,>=2.5 in /usr/local/lib/python3.10/dist-packages (from requests->torch-geometric) (3.7)\n",
            "Requirement already satisfied: urllib3<3,>=1.21.1 in /usr/local/lib/python3.10/dist-packages (from requests->torch-geometric) (2.0.7)\n",
            "Requirement already satisfied: certifi>=2017.4.17 in /usr/local/lib/python3.10/dist-packages (from requests->torch-geometric) (2024.2.2)\n",
            "Requirement already satisfied: joblib>=1.1.1 in /usr/local/lib/python3.10/dist-packages (from scikit-learn->torch-geometric) (1.4.2)\n",
            "Requirement already satisfied: threadpoolctl>=2.0.0 in /usr/local/lib/python3.10/dist-packages (from scikit-learn->torch-geometric) (3.5.0)\n",
            "Installing collected packages: torch-geometric\n",
            "Successfully installed torch-geometric-2.5.3\n",
            "Collecting rdkit\n",
            "  Downloading rdkit-2023.9.6-cp310-cp310-manylinux_2_17_x86_64.manylinux2014_x86_64.whl (34.9 MB)\n",
            "\u001b[2K     \u001b[90m━━━━━━━━━━━━━━━━━━━━━━━━━━━━━━━━━━━━━━━━\u001b[0m \u001b[32m34.9/34.9 MB\u001b[0m \u001b[31m28.9 MB/s\u001b[0m eta \u001b[36m0:00:00\u001b[0m\n",
            "\u001b[?25hRequirement already satisfied: numpy in /usr/local/lib/python3.10/dist-packages (from rdkit) (1.25.2)\n",
            "Requirement already satisfied: Pillow in /usr/local/lib/python3.10/dist-packages (from rdkit) (9.4.0)\n",
            "Installing collected packages: rdkit\n",
            "Successfully installed rdkit-2023.9.6\n"
          ]
        },
        {
          "output_type": "stream",
          "name": "stderr",
          "text": [
            "Downloading https://deepchemdata.s3-us-west-1.amazonaws.com/datasets/delaney-processed.csv\n",
            "Processing...\n",
            "Done!\n"
          ]
        },
        {
          "output_type": "execute_result",
          "data": {
            "text/plain": [
              "ESOL(1128)"
            ]
          },
          "metadata": {},
          "execution_count": 1
        }
      ],
      "source": [
        "!pip install torch\n",
        "!pip install torch-geometric\n",
        "!pip install rdkit\n",
        "import rdkit\n",
        "from torch_geometric.datasets import MoleculeNet\n",
        "\n",
        "# https://pytorch-geometric.readthedocs.io/en/latest/generated/torch_geometric.datasets.MoleculeNet.html#torch_geometric.datasets.MoleculeNet\n",
        "DATA = MoleculeNet(root=\".\", name=\"ESOL\")\n",
        "DATA"
      ]
    },
    {
      "cell_type": "markdown",
      "source": [
        "**!pip install torch:** This command installs the PyTorch library, a popular open-source machine learning library for Python.</br>\n",
        "\n",
        "**!pip install torch-geometric:** This command installs the PyTorch Geometric (PyG) library, which is an extension library for PyTorch dedicated to geometric deep learning, such as graph neural networks.</br>\n",
        "\n",
        "**!pip install rdkit:** This command installs the RDKit library, an open-source cheminformatics software that provides tools for the chemistry domain, like handling molecular structures.\n",
        "import rdkit: This line imports the RDKit library into your Python script.</br>\n",
        "\n",
        "**from torch_geometric.datasets import MoleculeNet:** This line imports the MoleculeNet dataset from the torch_geometric.datasets module.</br>\n",
        "\n",
        "**DATA = MoleculeNet(root=\".\", name=\"ESOL\"):** This line loads the ESOL dataset from MoleculeNet and stores it in the variable DATA.\n",
        "The MoleculeNet dataset is a large-scale benchmark for molecular machine learning1. It curates multiple public datasets, establishes metrics for evaluation, and offers high-quality open-source implementations of multiple previously proposed molecular featurization and learning algorithms.</br>\n",
        "\n",
        "The ESOL dataset, specifically, is a small dataset consisting of water solubility data for 1128 compounds2. The dataset has been used to train models that estimate solubility directly from chemical structures (as encoded in SMILES strings). It is made up of water solubility data (log solubility in mols per litre) for common organic small molecules.</br>"
      ],
      "metadata": {
        "id": "JRtea7T-CzOh"
      }
    },
    {
      "cell_type": "code",
      "execution_count": 2,
      "metadata": {
        "colab": {
          "base_uri": "https://localhost:8080/",
          "height": 0
        },
        "id": "5NDDvbl66-zn",
        "outputId": "4cd3969a-ca68-4c6b-99b4-1397d8cb5adc"
      },
      "outputs": [
        {
          "output_type": "stream",
          "name": "stdout",
          "text": [
            "Dataset type:  <class 'torch_geometric.datasets.molecule_net.MoleculeNet'>\n",
            "Number of features per graph node:  9\n",
            "Number of distinct target values (solubilities):  734\n",
            "Number of graphs:  1128\n",
            "Example graph:  Data(x=[32, 9], edge_index=[2, 68], edge_attr=[68, 3], smiles='OCC3OC(OCC2OC(OC(C#N)c1ccccc1)C(O)C(O)C2O)C(O)C(O)C3O ', y=[1, 1])\n",
            "Number of nodes in example graph:  32\n",
            "Number of edges in example graph:  68\n"
          ]
        },
        {
          "output_type": "stream",
          "name": "stderr",
          "text": [
            "/usr/local/lib/python3.10/dist-packages/torch_geometric/data/dataset.py:169: UserWarning: Found floating-point labels while calling `dataset.num_classes`. Returning the number of unique elements. Please make sure that this is expected before proceeding.\n",
            "  warnings.warn(\"Found floating-point labels while calling \"\n"
          ]
        }
      ],
      "source": [
        "print(\"Dataset type: \", type(DATA))\n",
        "print(\"Number of features per graph node: \", DATA.num_features)\n",
        "print(\"Number of distinct target values (solubilities): \", DATA.num_classes)\n",
        "print(\"Number of graphs: \", len(DATA))\n",
        "print(\"Example graph: \", DATA[0])\n",
        "print(\"Number of nodes in example graph: \", DATA[0].num_nodes)\n",
        "print(\"Number of edges in example graph: \", DATA[0].num_edges)"
      ]
    },
    {
      "cell_type": "markdown",
      "source": [
        "1. `print(\"Dataset type: \", type(DATA))`: This line prints the type of the `DATA` object. It's expected to be a `torch_geometric.data.dataset.Dataset` object, which is the base class for all graph datasets in PyTorch Geometric.\n",
        "\n",
        "2. `print(\"Number of features per graph node: \", DATA.num_features)`: This line prints the number of features per node in the graphs of the `DATA` dataset. Each node in a graph can have multiple features, such as atomic number, atomic mass, etc., in a molecular graph.\n",
        "\n",
        "3. `print(\"Number of distinct target values (solubilities): \", DATA.num_classes)`: This line prints the number of distinct target values in the `DATA` dataset. In the context of the `ESOL` dataset, this would be the number of distinct solubility values.\n",
        "\n",
        "4. `print(\"Number of graphs: \", len(DATA))`: This line prints the total number of graphs in the `DATA` dataset. Each graph represents a different molecule.\n",
        "\n",
        "5. `print(\"Example graph: \", DATA[0])`: This line prints the details of the first graph in the `DATA` dataset.\n",
        "\n",
        "6. `print(\"Number of nodes in example graph: \", DATA[0].num_nodes)`: This line prints the number of nodes in the first graph of the `DATA` dataset. Each node represents an atom in the molecule.\n",
        "\n",
        "7. `print(\"Number of edges in example graph: \", DATA[0].num_edges)`: This line prints the number of edges in the first graph of the `DATA` dataset. Each edge represents a bond between two atoms in the molecule.\n",
        "\n",
        "In summary, this code is exploring the `ESOL` dataset from `MoleculeNet`. It prints out the type of the dataset, the number of features per node, the number of distinct target values (solubilities), the total number of graphs in the dataset, and some details about the first graph in the dataset. This information is useful for understanding the structure and content of the dataset before using it for machine learning tasks."
      ],
      "metadata": {
        "id": "fchQavP-Eprk"
      }
    },
    {
      "cell_type": "code",
      "execution_count": 3,
      "metadata": {
        "colab": {
          "base_uri": "https://localhost:8080/",
          "height": 0
        },
        "id": "6OCtvuCh6-zn",
        "outputId": "a75c53b2-a5db-4686-8ee2-7e5cbabe2654"
      },
      "outputs": [
        {
          "output_type": "execute_result",
          "data": {
            "text/plain": [
              "tensor([[8, 0, 2, 5, 1, 0, 4, 0, 0],\n",
              "        [6, 0, 4, 5, 2, 0, 4, 0, 0],\n",
              "        [6, 0, 4, 5, 1, 0, 4, 0, 1],\n",
              "        [8, 0, 2, 5, 0, 0, 4, 0, 1],\n",
              "        [6, 0, 4, 5, 1, 0, 4, 0, 1],\n",
              "        [8, 0, 2, 5, 0, 0, 4, 0, 0],\n",
              "        [6, 0, 4, 5, 2, 0, 4, 0, 0],\n",
              "        [6, 0, 4, 5, 1, 0, 4, 0, 1],\n",
              "        [8, 0, 2, 5, 0, 0, 4, 0, 1],\n",
              "        [6, 0, 4, 5, 1, 0, 4, 0, 1],\n",
              "        [8, 0, 2, 5, 0, 0, 4, 0, 0],\n",
              "        [6, 0, 4, 5, 1, 0, 4, 0, 0],\n",
              "        [6, 0, 2, 5, 0, 0, 2, 0, 0],\n",
              "        [7, 0, 1, 5, 0, 0, 2, 0, 0],\n",
              "        [6, 0, 3, 5, 0, 0, 3, 1, 1],\n",
              "        [6, 0, 3, 5, 1, 0, 3, 1, 1],\n",
              "        [6, 0, 3, 5, 1, 0, 3, 1, 1],\n",
              "        [6, 0, 3, 5, 1, 0, 3, 1, 1],\n",
              "        [6, 0, 3, 5, 1, 0, 3, 1, 1],\n",
              "        [6, 0, 3, 5, 1, 0, 3, 1, 1],\n",
              "        [6, 0, 4, 5, 1, 0, 4, 0, 1],\n",
              "        [8, 0, 2, 5, 1, 0, 4, 0, 0],\n",
              "        [6, 0, 4, 5, 1, 0, 4, 0, 1],\n",
              "        [8, 0, 2, 5, 1, 0, 4, 0, 0],\n",
              "        [6, 0, 4, 5, 1, 0, 4, 0, 1],\n",
              "        [8, 0, 2, 5, 1, 0, 4, 0, 0],\n",
              "        [6, 0, 4, 5, 1, 0, 4, 0, 1],\n",
              "        [8, 0, 2, 5, 1, 0, 4, 0, 0],\n",
              "        [6, 0, 4, 5, 1, 0, 4, 0, 1],\n",
              "        [8, 0, 2, 5, 1, 0, 4, 0, 0],\n",
              "        [6, 0, 4, 5, 1, 0, 4, 0, 1],\n",
              "        [8, 0, 2, 5, 1, 0, 4, 0, 0]])"
            ]
          },
          "metadata": {},
          "execution_count": 3
        }
      ],
      "source": [
        "# nodes of example graph\n",
        "DATA[0].x # shape: [num_nodes, num_node_features]"
      ]
    },
    {
      "cell_type": "markdown",
      "source": [
        "The line DATA[0].x is used to access the node features of the first graph in the DATA dataset. In the context of the ESOL dataset, each node represents an atom in a molecule, and the features could be properties of the atoms like atomic number, atomic mass, etc.\n",
        "\n",
        "The shape of DATA[0].x is [num_nodes, num_node_features], where num_nodes is the number of nodes (atoms) in the first graph (molecule), and num_node_features is the number of features for each node (atom).\n",
        "\n",
        "So, if you print DATA[0].x, it will output a 2D tensor where each row represents a node (atom) and each column in a row represents a feature of that node (atom). The number of rows is equal to the number of nodes in the graph, and the number of columns is equal to the number of features per node. This tensor is used as input to graph neural networks for tasks like node classification, link prediction, etc. in the field of geometric deep learning."
      ],
      "metadata": {
        "id": "xmu3RMTGE3Gl"
      }
    },
    {
      "cell_type": "code",
      "execution_count": 4,
      "metadata": {
        "colab": {
          "base_uri": "https://localhost:8080/",
          "height": 0
        },
        "id": "mpae27Wp6-zo",
        "outputId": "4e26fe74-2355-4763-fd82-e16ad9a48eeb"
      },
      "outputs": [
        {
          "output_type": "execute_result",
          "data": {
            "text/plain": [
              "tensor([[-0.7700]])"
            ]
          },
          "metadata": {},
          "execution_count": 4
        }
      ],
      "source": [
        "# the target value of the example graph is its solubility\n",
        "DATA[0].y"
      ]
    },
    {
      "cell_type": "markdown",
      "source": [
        "The line `DATA[0].y` is used to access the target value of the first graph in the `DATA` dataset. In the context of the `ESOL` dataset, the target value is the solubility of the molecule represented by the graph.\n",
        "\n",
        "The `y` attribute of a graph in the `MoleculeNet` dataset represents the target value or label associated with the graph. For the `ESOL` dataset, this target value is the solubility of the molecule in water. This value is what you would typically try to predict in a machine learning task using the `MoleculeNet` dataset.\n",
        "\n",
        "So, if you print `DATA[0].y`, it will output the solubility of the first molecule in the dataset. This solubility value is typically used as the ground truth or label when training a machine learning model to predict molecular solubility from graph representations of molecules.\n"
      ],
      "metadata": {
        "id": "lWietMHsFRLw"
      }
    },
    {
      "cell_type": "code",
      "execution_count": 5,
      "metadata": {
        "colab": {
          "base_uri": "https://localhost:8080/",
          "height": 0
        },
        "id": "GFUhNc3l6-zo",
        "outputId": "21209b8f-2008-4551-d210-7b266607a3c2"
      },
      "outputs": [
        {
          "output_type": "execute_result",
          "data": {
            "text/plain": [
              "tensor([[ 0,  1],\n",
              "        [ 1,  0],\n",
              "        [ 1,  2],\n",
              "        [ 2,  1],\n",
              "        [ 2,  3],\n",
              "        [ 2, 30],\n",
              "        [ 3,  2],\n",
              "        [ 3,  4],\n",
              "        [ 4,  3],\n",
              "        [ 4,  5],\n",
              "        [ 4, 26],\n",
              "        [ 5,  4],\n",
              "        [ 5,  6],\n",
              "        [ 6,  5],\n",
              "        [ 6,  7],\n",
              "        [ 7,  6],\n",
              "        [ 7,  8],\n",
              "        [ 7, 24],\n",
              "        [ 8,  7],\n",
              "        [ 8,  9],\n",
              "        [ 9,  8],\n",
              "        [ 9, 10],\n",
              "        [ 9, 20],\n",
              "        [10,  9],\n",
              "        [10, 11],\n",
              "        [11, 10],\n",
              "        [11, 12],\n",
              "        [11, 14],\n",
              "        [12, 11],\n",
              "        [12, 13],\n",
              "        [13, 12],\n",
              "        [14, 11],\n",
              "        [14, 15],\n",
              "        [14, 19],\n",
              "        [15, 14],\n",
              "        [15, 16],\n",
              "        [16, 15],\n",
              "        [16, 17],\n",
              "        [17, 16],\n",
              "        [17, 18],\n",
              "        [18, 17],\n",
              "        [18, 19],\n",
              "        [19, 14],\n",
              "        [19, 18],\n",
              "        [20,  9],\n",
              "        [20, 21],\n",
              "        [20, 22],\n",
              "        [21, 20],\n",
              "        [22, 20],\n",
              "        [22, 23],\n",
              "        [22, 24],\n",
              "        [23, 22],\n",
              "        [24,  7],\n",
              "        [24, 22],\n",
              "        [24, 25],\n",
              "        [25, 24],\n",
              "        [26,  4],\n",
              "        [26, 27],\n",
              "        [26, 28],\n",
              "        [27, 26],\n",
              "        [28, 26],\n",
              "        [28, 29],\n",
              "        [28, 30],\n",
              "        [29, 28],\n",
              "        [30,  2],\n",
              "        [30, 28],\n",
              "        [30, 31],\n",
              "        [31, 30]])"
            ]
          },
          "metadata": {},
          "execution_count": 5
        }
      ],
      "source": [
        "# the edges of the example graph are in sparse Coordinate Format (COO)\n",
        "# (also called adjacency list: https://distill.pub/2021/gnn-intro/\n",
        "DATA[0].edge_index.t() # shape [num_edges, 2]"
      ]
    },
    {
      "cell_type": "code",
      "execution_count": 6,
      "metadata": {
        "colab": {
          "base_uri": "https://localhost:8080/",
          "height": 0
        },
        "id": "9U5KbrAv6-zo",
        "outputId": "076bf40f-115f-42dc-e9ca-75ae0537203a"
      },
      "outputs": [
        {
          "output_type": "execute_result",
          "data": {
            "text/plain": [
              "tensor([[ 1,  0,  0],\n",
              "        [ 1,  0,  0],\n",
              "        [ 1,  0,  0],\n",
              "        [ 1,  0,  0],\n",
              "        [ 1,  0,  0],\n",
              "        [ 1,  0,  0],\n",
              "        [ 1,  0,  0],\n",
              "        [ 1,  0,  0],\n",
              "        [ 1,  0,  0],\n",
              "        [ 1,  0,  0],\n",
              "        [ 1,  0,  0],\n",
              "        [ 1,  0,  0],\n",
              "        [ 1,  0,  0],\n",
              "        [ 1,  0,  0],\n",
              "        [ 1,  0,  0],\n",
              "        [ 1,  0,  0],\n",
              "        [ 1,  0,  0],\n",
              "        [ 1,  0,  0],\n",
              "        [ 1,  0,  0],\n",
              "        [ 1,  0,  0],\n",
              "        [ 1,  0,  0],\n",
              "        [ 1,  0,  0],\n",
              "        [ 1,  0,  0],\n",
              "        [ 1,  0,  0],\n",
              "        [ 1,  0,  0],\n",
              "        [ 1,  0,  0],\n",
              "        [ 1,  0,  0],\n",
              "        [ 1,  0,  0],\n",
              "        [ 1,  0,  0],\n",
              "        [ 3,  0,  0],\n",
              "        [ 3,  0,  0],\n",
              "        [ 1,  0,  0],\n",
              "        [12,  0,  1],\n",
              "        [12,  0,  1],\n",
              "        [12,  0,  1],\n",
              "        [12,  0,  1],\n",
              "        [12,  0,  1],\n",
              "        [12,  0,  1],\n",
              "        [12,  0,  1],\n",
              "        [12,  0,  1],\n",
              "        [12,  0,  1],\n",
              "        [12,  0,  1],\n",
              "        [12,  0,  1],\n",
              "        [12,  0,  1],\n",
              "        [ 1,  0,  0],\n",
              "        [ 1,  0,  0],\n",
              "        [ 1,  0,  0],\n",
              "        [ 1,  0,  0],\n",
              "        [ 1,  0,  0],\n",
              "        [ 1,  0,  0],\n",
              "        [ 1,  0,  0],\n",
              "        [ 1,  0,  0],\n",
              "        [ 1,  0,  0],\n",
              "        [ 1,  0,  0],\n",
              "        [ 1,  0,  0],\n",
              "        [ 1,  0,  0],\n",
              "        [ 1,  0,  0],\n",
              "        [ 1,  0,  0],\n",
              "        [ 1,  0,  0],\n",
              "        [ 1,  0,  0],\n",
              "        [ 1,  0,  0],\n",
              "        [ 1,  0,  0],\n",
              "        [ 1,  0,  0],\n",
              "        [ 1,  0,  0],\n",
              "        [ 1,  0,  0],\n",
              "        [ 1,  0,  0],\n",
              "        [ 1,  0,  0],\n",
              "        [ 1,  0,  0]])"
            ]
          },
          "metadata": {},
          "execution_count": 6
        }
      ],
      "source": [
        "# edge attributes of example graph\n",
        "DATA[0].edge_attr # shape [num_edges, num_edge_features]"
      ]
    },
    {
      "cell_type": "markdown",
      "source": [
        "The line `DATA[0].edge_attr` is used to access the edge attributes of the first graph in the `DATA` dataset.\n",
        "\n",
        "In the context of the `ESOL` dataset and graph neural networks, each edge represents a bond between two atoms (nodes) in a molecule (graph). The `edge_attr` attribute of a graph is a 2D tensor of shape `[num_edges, num_edge_features]`, where `num_edges` is the number of edges in the graph and `num_edge_features` is the number of features for each edge.\n",
        "\n",
        "Each edge in a graph can have multiple features. For example, in a molecular graph, edge features could represent bond type (single, double, triple), bond length, bond angle, etc.\n",
        "\n",
        "So, if you print `DATA[0].edge_attr`, it will output a 2D tensor where each row represents an edge (bond) in the first graph (molecule) of the dataset, and each column in a row represents a feature of that edge (bond). This tensor is used as input to graph neural networks for tasks like node classification, link prediction, etc. in the field of geometric deep learning.\n"
      ],
      "metadata": {
        "id": "Vi81jhSFFavr"
      }
    },
    {
      "cell_type": "markdown",
      "metadata": {
        "id": "sgooOdoV6-zo"
      },
      "source": [
        "## Visualize one of the molecules in the dataset"
      ]
    },
    {
      "cell_type": "code",
      "execution_count": 7,
      "metadata": {
        "colab": {
          "base_uri": "https://localhost:8080/",
          "height": 167
        },
        "id": "aCXf8_-q6-zp",
        "outputId": "5fba3cd9-17ac-4ea0-cd59-aad1af3b889d"
      },
      "outputs": [
        {
          "output_type": "execute_result",
          "data": {
            "text/plain": [
              "<rdkit.Chem.rdchem.Mol at 0x7e0da5e194d0>"
            ],
            "image/png": "[encoded data removed]"
          },
          "metadata": {},
          "execution_count": 7
        }
      ],
      "source": [
        "from rdkit import Chem\n",
        "from rdkit.Chem.Draw import IPythonConsole\n",
        "\n",
        "Chem.MolFromSmiles(DATA[1000][\"smiles\"])"
      ]
    },
    {
      "cell_type": "markdown",
      "source": [
        "\n",
        "1. `from rdkit import Chem`: This line imports the `Chem` module from the RDKit library. The `Chem` module provides a range of tools for chemistry, including the ability to create, manipulate and visualize molecular structures.\n",
        "\n",
        "2. `from rdkit.Chem.Draw import IPythonConsole`: This line imports the `IPythonConsole` module from `rdkit.Chem.Draw`. The `IPythonConsole` module allows RDKit to draw molecules directly in an IPython notebook.\n",
        "\n",
        "3. `Chem.MolFromSmiles(DATA[1000][\"smiles\"])`: This line creates a molecule object from a SMILES string. SMILES (Simplified Molecular Input Line Entry System) is a specification for unambiguously describing the structure of chemical molecules using short ASCII strings. `DATA[1000][\"smiles\"]` retrieves the SMILES string of the 1001st molecule in the `DATA` dataset. `Chem.MolFromSmiles` then converts this SMILES string into a molecule object that can be manipulated and visualized using RDKit.\n",
        "\n",
        "In summary, this code is visualizing the structure of the 1001st molecule in the `ESOL` dataset using RDKit.\n"
      ],
      "metadata": {
        "id": "xfeEYlntG0Hp"
      }
    },
    {
      "cell_type": "markdown",
      "metadata": {
        "id": "iEkW1Aof6-zp"
      },
      "source": [
        "## Implement a Graph Convolutional Neural Network"
      ]
    },
    {
      "cell_type": "code",
      "execution_count": 8,
      "metadata": {
        "colab": {
          "base_uri": "https://localhost:8080/",
          "height": 0
        },
        "id": "2SEEnDZ06-zp",
        "outputId": "0b336c96-df41-4741-de0f-62acf2025687"
      },
      "outputs": [
        {
          "output_type": "stream",
          "name": "stdout",
          "text": [
            "GCN(\n",
            "  (initial_conv): GCNConv(9, 64)\n",
            "  (conv1): GCNConv(64, 64)\n",
            "  (conv2): GCNConv(64, 64)\n",
            "  (conv3): GCNConv(64, 64)\n",
            "  (out): Linear(in_features=128, out_features=1, bias=True)\n",
            ")\n",
            "Number of parameters:  13249\n"
          ]
        }
      ],
      "source": [
        "import torch\n",
        "from torch.nn import Linear\n",
        "import torch.nn.functional as F\n",
        "from torch_geometric.nn import GCNConv, TopKPooling, global_mean_pool\n",
        "from torch_geometric.nn import global_mean_pool as gap, global_max_pool as gmp\n",
        "\n",
        "EMBEDDING_DIM = 64\n",
        "\n",
        "class GCN(torch.nn.Module):\n",
        "    def __init__(self):\n",
        "        super(GCN, self).__init__()\n",
        "        torch.manual_seed(42)\n",
        "\n",
        "        self.initial_conv = GCNConv( # The graph convolutional operator from the “Semi-supervised Classification with Graph Convolutional Networks” paper\n",
        "          in_channels=DATA.num_features, # number of features per node of graph before transformation\n",
        "          out_channels=EMBEDDING_DIM # number of features per node of graph after transformation\n",
        "        )\n",
        "        self.conv1 = GCNConv(EMBEDDING_DIM, EMBEDDING_DIM)\n",
        "        self.conv2 = GCNConv(EMBEDDING_DIM, EMBEDDING_DIM)\n",
        "        self.conv3 = GCNConv(EMBEDDING_DIM, EMBEDDING_DIM)\n",
        "        self.out = Linear(\n",
        "          in_features=EMBEDDING_DIM*2, # we stack the different global pooling aggregations below\n",
        "          out_features=1\n",
        "        )\n",
        "\n",
        "    def forward(self, x, edge_index, batch_index):\n",
        "        # First Conv layer\n",
        "        hidden = self.initial_conv(x, edge_index)\n",
        "        hidden = F.tanh(hidden)\n",
        "\n",
        "        # Other Conv layers\n",
        "        hidden = self.conv1(hidden, edge_index)\n",
        "        hidden = F.tanh(hidden)\n",
        "        hidden = self.conv2(hidden, edge_index)\n",
        "        hidden = F.tanh(hidden)\n",
        "        hidden = self.conv3(hidden, edge_index)\n",
        "        hidden = F.tanh(hidden)\n",
        "\n",
        "        # Global Pooling (stack different aggregations over nodes of graph)\n",
        "        hidden = torch.cat([gmp(hidden, batch_index),\n",
        "                            gap(hidden, batch_index)], dim=1)\n",
        "\n",
        "        # Apply a final (linear) classifier.\n",
        "        out = self.out(hidden)\n",
        "\n",
        "        return out, hidden\n",
        "\n",
        "MODEL = GCN()\n",
        "print(MODEL)\n",
        "print(\"Number of parameters: \", sum(p.numel() for p in MODEL.parameters()))"
      ]
    },
    {
      "cell_type": "markdown",
      "source": [
        "1. `class GCN(torch.nn.Module)`: This line defines a new class `GCN` that inherits from `torch.nn.Module`. In PyTorch, a model is defined by subclassing the `torch.nn.Module` class.\n",
        "\n",
        "2. `self.initial_conv = GCNConv(...)`: This line defines the initial graph convolutional layer. The `GCNConv` class implements the graph convolutional operator from the \"Semi-supervised Classification with Graph Convolutional Networks\" paper. The input to this layer is the number of features per node in the input graph (`DATA.num_features`), and the output is a user-defined number of features (`EMBEDDING_DIM`).\n",
        "\n",
        "3. `self.conv1, self.conv2, self.conv3`: These lines define additional graph convolutional layers. Each layer takes as input the output of the previous layer (or the initial layer), applies a graph convolution, and outputs a new set of features per node.\n",
        "\n",
        "4. `self.out = Linear(...)`: This line defines a linear layer that takes as input the output of the last graph convolutional layer and outputs a single value. This value is the prediction of the model.\n",
        "\n",
        "5. `def forward(self, x, edge_index, batch_index)`: This method defines the forward pass of the model. It takes as input a batch of graphs (represented by their node features `x`, their edge indices `edge_index`, and a batch index `batch_index`), applies the graph convolutional layers and the linear layer, and outputs a prediction for each graph in the batch.\n",
        "\n",
        "6. `MODEL = GCN()`: This line creates an instance of the `GCN` class.\n",
        "\n",
        "7. `print(MODEL)`: This line prints the architecture of the model.\n",
        "\n",
        "8. `print(\"Number of parameters: \", sum(p.numel() for p in MODEL.parameters()))`: This line prints the total number of parameters in the model.\n",
        "\n",
        "In summary, this code defines a GCN model for predicting properties of molecules, creates an instance of this model, and prints the model's architecture and number of parameters."
      ],
      "metadata": {
        "id": "Cq3sVQazHb6t"
      }
    },
    {
      "cell_type": "markdown",
      "metadata": {
        "id": "F1W2R5Kj6-zp"
      },
      "source": [
        "## Train the Graph Convolutional Network"
      ]
    },
    {
      "cell_type": "code",
      "execution_count": 9,
      "metadata": {
        "id": "5z9W9uPa6-zp"
      },
      "outputs": [],
      "source": [
        "from torch_geometric.data import DataLoader\n",
        "import warnings\n",
        "warnings.filterwarnings(\"ignore\")\n",
        "\n",
        "NUM_GRAPHS_PER_BATCH = 64\n",
        "\n",
        "# Use GPU for training (if available)\n",
        "DEVICE = torch.device(\"cuda:0\" if torch.cuda.is_available() else \"cpu\")"
      ]
    },
    {
      "cell_type": "markdown",
      "source": [
        "1. `from torch_geometric.data import DataLoader`: This line imports the `DataLoader` class from the `torch_geometric.data` module. The `DataLoader` is a PyTorch utility for loading and batching data in parallel.\n",
        "\n",
        "2. `import warnings`: This line imports the `warnings` module, which is used to control how warnings are displayed.\n",
        "\n",
        "3. `warnings.filterwarnings(\"ignore\")`: This line suppresses the display of warnings. This can be useful to keep the output clean in a production environment, but it's generally recommended to keep warnings visible during development as they can highlight potential issues.\n",
        "\n",
        "4. `NUM_GRAPHS_PER_BATCH = 64`: This line sets the number of graphs that will be loaded in each batch during training. Batching allows the model to train on multiple examples at once, which can speed up training and make better use of GPU resources.\n",
        "\n",
        "5. `DEVICE = torch.device(\"cuda:0\" if torch.cuda.is_available() else \"cpu\")`: This line sets the device where the computations will be performed. If a CUDA-compatible GPU is available (`torch.cuda.is_available()` returns `True`), it sets the device to the first GPU (`cuda:0`). Otherwise, it sets the device to the CPU. Using a GPU can significantly speed up computations.\n",
        "\n",
        "In summary, this code is setting up the data loading and device for training a GCN model using PyTorch and PyTorch Geometric."
      ],
      "metadata": {
        "id": "4T4ke09THu-S"
      }
    },
    {
      "cell_type": "code",
      "execution_count": 10,
      "metadata": {
        "colab": {
          "base_uri": "https://localhost:8080/",
          "height": 0
        },
        "id": "pJAPGTS26-zq",
        "outputId": "ceb74356-1a3f-4f64-f2ca-c7a5003e36b6"
      },
      "outputs": [
        {
          "output_type": "stream",
          "name": "stdout",
          "text": [
            "Starting training...\n",
            "Epoch 0 | Train Loss 11.665949821472168\n",
            "Epoch 100 | Train Loss 1.032310962677002\n",
            "Epoch 200 | Train Loss 2.338195562362671\n",
            "Epoch 300 | Train Loss 0.220626100897789\n",
            "Epoch 400 | Train Loss 0.1796690970659256\n",
            "Epoch 500 | Train Loss 0.2943800389766693\n",
            "Epoch 600 | Train Loss 0.08013196289539337\n",
            "Epoch 700 | Train Loss 0.11260401457548141\n",
            "Epoch 800 | Train Loss 0.21036823093891144\n",
            "Epoch 900 | Train Loss 0.06599634140729904\n",
            "Epoch 1000 | Train Loss 0.046364620327949524\n",
            "Epoch 1100 | Train Loss 0.05885403975844383\n",
            "Epoch 1200 | Train Loss 0.061202432960271835\n",
            "Epoch 1300 | Train Loss 0.05776737630367279\n",
            "Epoch 1400 | Train Loss 0.20312468707561493\n",
            "Epoch 1500 | Train Loss 0.014425194822251797\n",
            "Epoch 1600 | Train Loss 0.10018693655729294\n",
            "Epoch 1700 | Train Loss 0.0032326774671673775\n",
            "Epoch 1800 | Train Loss 0.05969895422458649\n",
            "Epoch 1900 | Train Loss 0.05836554244160652\n"
          ]
        }
      ],
      "source": [
        "def train(model, data):\n",
        "  model = model.to(DEVICE)\n",
        "\n",
        "  loss_fn = torch.nn.MSELoss()\n",
        "\n",
        "  optimizer = torch.optim.Adam(model.parameters(), lr=0.0007)\n",
        "\n",
        "  data_size = len(data)\n",
        "  train_loader = DataLoader(\n",
        "    data[:int(data_size * 0.8)],\n",
        "    batch_size=NUM_GRAPHS_PER_BATCH,\n",
        "    shuffle=True\n",
        "  )\n",
        "\n",
        "  for batch in train_loader:\n",
        "    # Use GPU\n",
        "    batch.to(DEVICE)\n",
        "    # Reset gradients\n",
        "    optimizer.zero_grad()\n",
        "    # Passing the node features and the edge info\n",
        "    pred, embedding = model(batch.x.float(), batch.edge_index, batch.batch)\n",
        "    # Calculating the loss and gradients\n",
        "    loss = loss_fn(pred, batch.y)\n",
        "    loss.backward()\n",
        "    # Update using the gradients\n",
        "    optimizer.step()\n",
        "  return loss, embedding\n",
        "\n",
        "def train_wrapper():\n",
        "  print(\"Starting training...\")\n",
        "  losses = []\n",
        "  for epoch in range(2000):\n",
        "      loss, h = train(MODEL, DATA)\n",
        "      losses.append(loss)\n",
        "      if epoch % 100 == 0:\n",
        "        print(f\"Epoch {epoch} | Train Loss {loss}\")\n",
        "  return losses\n",
        "\n",
        "LOSSES = train_wrapper()"
      ]
    },
    {
      "cell_type": "markdown",
      "source": [
        "1. `def train(model, data)`: This function defines the training process for a single epoch. It takes as input a model and a dataset.\n",
        "\n",
        "2. `model = model.to(DEVICE)`: This line moves the model to the device where the computations will be performed (either a GPU or CPU).\n",
        "\n",
        "3. `loss_fn = torch.nn.MSELoss()`: This line defines the loss function to be used during training. In this case, Mean Squared Error (MSE) loss is used, which is commonly used for regression tasks.\n",
        "\n",
        "4. `optimizer = torch.optim.Adam(...)`: This line defines the optimizer to be used during training. In this case, the Adam optimizer is used.\n",
        "\n",
        "5. `train_loader = DataLoader(...)`: This line creates a DataLoader, which is a PyTorch utility for loading and batching data in parallel.\n",
        "\n",
        "6. The `for` loop iterates over each batch in the DataLoader. For each batch, it moves the batch to the device, performs a forward pass through the model, computes the loss, performs a backward pass to compute the gradients, and updates the model parameters using the optimizer.\n",
        "\n",
        "7. `def train_wrapper()`: This function wraps the training process for multiple epochs. It prints the training progress and stores the loss for each epoch.\n",
        "\n",
        "8. `LOSSES = train_wrapper()`: This line starts the training process and stores the losses for each epoch.\n",
        "\n",
        "In summary, this code is defining and starting the training process for a GCN model using PyTorch and PyTorch Geometric."
      ],
      "metadata": {
        "id": "uMcZ7OdWIC_y"
      }
    },
    {
      "cell_type": "markdown",
      "metadata": {
        "id": "Ou5-w-y46-zq"
      },
      "source": [
        "## Visualize training loss\n"
      ]
    },
    {
      "cell_type": "code",
      "execution_count": 11,
      "metadata": {
        "colab": {
          "base_uri": "https://localhost:8080/",
          "height": 449
        },
        "id": "sanQPAlG6-zq",
        "outputId": "0ffceb0e-68e4-44fb-c0e4-34379a684b8f"
      },
      "outputs": [
        {
          "output_type": "display_data",
          "data": {
            "text/plain": [
              "<Figure size 640x480 with 1 Axes>"
            ],
            "image/png": "[encoded data removed]"
          },
          "metadata": {}
        }
      ],
      "source": [
        "import seaborn as sns\n",
        "\n",
        "def plot_train_loss():\n",
        "  losses_float = [float(loss.cpu().detach().numpy()) for loss in LOSSES]\n",
        "  loss_indices = range(len(losses_float))\n",
        "  ax = sns.lineplot(x=loss_indices, y=losses_float)\n",
        "  ax.set(xlabel='Epoch', ylabel='Loss')\n",
        "\n",
        "plot_train_loss()"
      ]
    },
    {
      "cell_type": "markdown",
      "source": [
        "1. `import seaborn as sns`: This line imports the Seaborn library, a Python data visualization library based on Matplotlib. It provides a high-level interface for drawing attractive and informative statistical graphics.\n",
        "\n",
        "2. `def plot_train_loss()`: This function defines the process of plotting the training loss.\n",
        "\n",
        "3. `losses_float = [float(loss.cpu().detach().numpy()) for loss in LOSSES]`: This line converts the loss for each epoch from a PyTorch tensor to a Python float. The `cpu()` function moves the tensor to the CPU (if it's not already there), the `detach()` function detaches the tensor from the computation graph (so gradients are not tracked), and the `numpy()` function converts the tensor to a NumPy array.\n",
        "\n",
        "4. `loss_indices = range(len(losses_float))`: This line creates a list of indices for the epochs. The length of this list is the same as the length of `losses_float`.\n",
        "\n",
        "5. `ax = sns.lineplot(x=loss_indices, y=losses_float)`: This line creates a line plot with epoch indices on the x-axis and training loss values on the y-axis.\n",
        "\n",
        "6. `ax.set(xlabel='Epoch', ylabel='Loss')`: This line sets the labels of the x-axis and y-axis of the plot.\n",
        "\n",
        "7. `plot_train_loss()`: This line calls the `plot_train_loss` function to plot the training loss.\n",
        "\n",
        "In summary, this code is used to visualize the training loss of the GCN model over epochs, which can be useful for understanding how the model is learning and whether or not it's converging."
      ],
      "metadata": {
        "id": "F-aLMfgtIoT2"
      }
    },
    {
      "cell_type": "markdown",
      "metadata": {
        "id": "R2sgFEQx6-zq"
      },
      "source": [
        "## Predict solubility on test data and compare with true solubilities"
      ]
    },
    {
      "cell_type": "code",
      "execution_count": 12,
      "metadata": {
        "colab": {
          "base_uri": "https://localhost:8080/",
          "height": 449
        },
        "id": "RAi4P0di6-zq",
        "outputId": "f618af1a-2798-4d4a-c5c1-4c91c0fa6e20"
      },
      "outputs": [
        {
          "output_type": "display_data",
          "data": {
            "text/plain": [
              "<Figure size 640x480 with 1 Axes>"
            ],
            "image/png": "[encoded data removed]"
          },
          "metadata": {}
        }
      ],
      "source": [
        "import pandas as pd\n",
        "\n",
        "def predict(model, data):\n",
        "  data_size = len(data)\n",
        "  test_loader = DataLoader(\n",
        "    data[int(data_size * 0.8):],\n",
        "    batch_size=NUM_GRAPHS_PER_BATCH,\n",
        "    shuffle=True\n",
        "  )\n",
        "\n",
        "  # Analyze the results for one batch\n",
        "  test_batch = next(iter(test_loader))\n",
        "\n",
        "  with torch.no_grad():\n",
        "    test_batch.to(DEVICE)\n",
        "    pred, embed = model(test_batch.x.float(), test_batch.edge_index, test_batch.batch)\n",
        "    df = pd.DataFrame()\n",
        "    df[\"y_real\"] = test_batch.y.tolist()\n",
        "    df[\"y_pred\"] = pred.tolist()\n",
        "\n",
        "  df[\"y_real\"] = df[\"y_real\"].apply(lambda row: row[0])\n",
        "  df[\"y_pred\"] = df[\"y_pred\"].apply(lambda row: row[0])\n",
        "\n",
        "  axes = sns.scatterplot(data=df, x=\"y_real\", y=\"y_pred\")\n",
        "  axes.set_xlabel(\"Real Solubility\")\n",
        "  axes.set_ylabel(\"Predicted Solubility\")\n",
        "\n",
        "predict(MODEL, DATA)"
      ]
    },
    {
      "cell_type": "markdown",
      "source": [
        "1. `def predict(model, data)`: This function defines the prediction process. It takes as input a model and a dataset.\n",
        "\n",
        "2. `test_loader = DataLoader(...)`: This line creates a DataLoader for the test data, which is the last 20% of the dataset.\n",
        "\n",
        "3. `test_batch = next(iter(test_loader))`: This line retrieves the first batch from the test DataLoader.\n",
        "\n",
        "4. `with torch.no_grad()`: This context manager is used to disable gradient calculations during the prediction phase, which can save memory.\n",
        "\n",
        "5. `pred, embed = model(...)`: This line performs a forward pass through the model using the test batch and retrieves the predictions and the embeddings.\n",
        "\n",
        "6. `df = pd.DataFrame()`: This line creates a new pandas DataFrame to store the real and predicted solubility values.\n",
        "\n",
        "7. `df[\"y_real\"] = test_batch.y.tolist()`: This line adds the real solubility values to the DataFrame.\n",
        "\n",
        "8. `df[\"y_pred\"] = pred.tolist()`: This line adds the predicted solubility values to the DataFrame.\n",
        "\n",
        "9. `df[\"y_real\"] = df[\"y_real\"].apply(lambda row: row[0])`: This line converts the real solubility values from lists to single values.\n",
        "\n",
        "10. `df[\"y_pred\"] = df[\"y_pred\"].apply(lambda row: row[0])`: This line converts the predicted solubility values from lists to single values.\n",
        "\n",
        "11. `axes = sns.scatterplot(data=df, x=\"y_real\", y=\"y_pred\")`: This line creates a scatter plot with the real solubility values on the x-axis and the predicted solubility values on the y-axis.\n",
        "\n",
        "12. `axes.set_xlabel(\"Real Solubility\")` and `axes.set_ylabel(\"Predicted Solubility\")`: These lines set the labels of the x-axis and y-axis of the plot.\n",
        "\n",
        "In summary, this code is defining the prediction process for a GCN model, making predictions on a test batch, and visualizing the real vs predicted solubility values."
      ],
      "metadata": {
        "id": "hdzNm63xJEMj"
      }
    }
  ],
  "metadata": {
    "kernelspec": {
      "display_name": "gnn",
      "language": "python",
      "name": "python3"
    },
    "language_info": {
      "codemirror_mode": {
        "name": "ipython",
        "version": 3
      },
      "file_extension": ".py",
      "mimetype": "text/x-python",
      "name": "python",
      "nbconvert_exporter": "python",
      "pygments_lexer": "ipython3",
      "version": "3.11.4"
    },
    "orig_nbformat": 4,
    "colab": {
      "provenance": []
    }
  },
  "nbformat": 4,
  "nbformat_minor": 0
}